{
 "cells": [
  {
   "cell_type": "markdown",
   "source": [
    "### This file is a collection of attempts made for using an OIE tool on Python 3.9.6 and Microsoft Windows 10 Pro"
   ],
   "metadata": {
    "collapsed": false
   }
  },
  {
   "cell_type": "code",
   "execution_count": 5,
   "outputs": [],
   "source": [
    "# your own path dir here\n",
    "my_path = \"C:\\\\Users\\\\dnaen\\\\PycharmProjects\\\\bachelor_thesis_23\""
   ],
   "metadata": {
    "collapsed": false,
    "ExecuteTime": {
     "end_time": "2023-05-17T09:33:44.501482100Z",
     "start_time": "2023-05-17T09:33:44.494392Z"
    }
   }
  },
  {
   "cell_type": "markdown",
   "source": [
    "# Attempt 1: https://github.com/gabrielStanovsky/supervised_oie_wrapper"
   ],
   "metadata": {
    "collapsed": false
   }
  },
  {
   "cell_type": "code",
   "execution_count": null,
   "outputs": [],
   "source": [
    "\"\"\"\n",
    "comments:\n",
    "- outdated: only works on version 0.9.0 (?)\n",
    "- I guess it's pretty out-dated as installing \"AllenNLP==0.9.0\" was not possible too\n",
    "\"\"\""
   ],
   "metadata": {
    "collapsed": false
   }
  },
  {
   "cell_type": "code",
   "execution_count": null,
   "outputs": [],
   "source": [
    "!pip install AllenNLP==0.9.0\n",
    "!pip install docopt\n",
    "!pip install tqdm"
   ],
   "metadata": {
    "collapsed": false
   }
  },
  {
   "cell_type": "code",
   "execution_count": 3,
   "outputs": [
    {
     "name": "stdout",
     "output_type": "stream",
     "text": [
      "Package                            Version\n",
      "---------------------------------- ---------------\n",
      "aiohttp                            3.8.3\n",
      "aiosignal                          1.2.0\n",
      "alabaster                          0.7.12\n",
      "altair                             4.2.2\n",
      "anaconda-client                    1.11.0\n",
      "anaconda-navigator                 2.3.2\n",
      "anyconfig                          0.13.0\n",
      "anyio                              3.5.0\n",
      "appdirs                            1.4.4\n",
      "argh                               0.26.2\n",
      "argon2-cffi                        21.3.0\n",
      "argon2-cffi-bindings               21.2.0\n",
      "arrow                              1.2.3\n",
      "astroid                            2.14.2\n",
      "astropy                            5.1\n",
      "asttokens                          2.0.5\n",
      "async-timeout                      4.0.2\n",
      "atomicwrites                       1.4.0\n",
      "attrs                              22.1.0\n",
      "Automat                            20.2.0\n",
      "autopep8                           1.5.6\n",
      "Babel                              2.11.0\n",
      "backcall                           0.2.0\n",
      "backports.functools-lru-cache      1.6.4\n",
      "backports.tempfile                 1.0\n",
      "backports.weakref                  1.0.post1\n",
      "base58                             2.1.1\n",
      "bcrypt                             3.2.0\n",
      "beautifulsoup4                     4.11.1\n",
      "binaryornot                        0.4.4\n",
      "binpickle                          0.3.4\n",
      "bitarray                           2.5.1\n",
      "bkcharts                           0.2\n",
      "black                              22.6.0\n",
      "bleach                             4.1.0\n",
      "blis                               0.7.7\n",
      "blosc                              1.10.6\n",
      "bokeh                              2.4.3\n",
      "boltons                            23.0.0\n",
      "boto3                              1.24.28\n",
      "botocore                           1.27.59\n",
      "Bottleneck                         1.3.5\n",
      "bpemb                              0.3.4\n",
      "brotlipy                           0.7.0\n",
      "cached-path                        1.1.6\n",
      "cachetools                         5.3.0\n",
      "catalogue                          2.0.7\n",
      "certifi                            2022.12.7\n",
      "cffi                               1.15.1\n",
      "chardet                            3.0.4\n",
      "charset-normalizer                 2.0.4\n",
      "claucy                             0.0.2.0\n",
      "click                              8.0.4\n",
      "cloudpickle                        2.0.0\n",
      "clyent                             1.2.2\n",
      "colorama                           0.4.6\n",
      "colorcet                           3.0.1\n",
      "comm                               0.1.2\n",
      "commonmark                         0.9.1\n",
      "comtypes                           1.1.10\n",
      "conda                              23.3.1\n",
      "conda-build                        3.21.4\n",
      "conda-content-trust                0.1.3\n",
      "conda-package-handling             2.0.2\n",
      "conda_package_streaming            0.7.0\n",
      "conda-repo-cli                     1.0.27\n",
      "conda-token                        0.4.0\n",
      "conda-verify                       3.4.2\n",
      "confection                         0.0.4\n",
      "conllu                             4.5.2\n",
      "constantly                         15.1.0\n",
      "contourpy                          1.0.5\n",
      "cookiecutter                       1.7.3\n",
      "cryptography                       39.0.1\n",
      "csr                                0.4.3\n",
      "cssselect                          1.1.0\n",
      "cycler                             0.11.0\n",
      "cymem                              2.0.6\n",
      "Cython                             0.29.33\n",
      "cytoolz                            0.12.0\n",
      "daal4py                            2023.0.2\n",
      "dask                               2022.5.0\n",
      "datasets                           2.10.1\n",
      "datashader                         0.14.4\n",
      "datashape                          0.5.4\n",
      "debugpy                            1.5.1\n",
      "decorator                          5.1.1\n",
      "defusedxml                         0.7.1\n",
      "Deprecated                         1.2.13\n",
      "diff-match-patch                   20200713\n",
      "dill                               0.3.6\n",
      "distributed                        2022.5.0\n",
      "docker-pycreds                     0.4.0\n",
      "docopt                             0.6.2\n",
      "docutils                           0.18.1\n",
      "emoji                              2.2.0\n",
      "en-core-web-sm                     3.3.0\n",
      "entrypoints                        0.4\n",
      "et-xmlfile                         1.1.0\n",
      "evaluate                           0.4.0\n",
      "executing                          0.8.3\n",
      "fairscale                          0.4.6\n",
      "fastjsonschema                     2.16.2\n",
      "filelock                           3.7.1\n",
      "flair                              0.12.2\n",
      "flake8                             3.9.0\n",
      "Flask                              2.2.2\n",
      "flit_core                          3.6.0\n",
      "fonttools                          4.25.0\n",
      "frozenlist                         1.3.3\n",
      "fsspec                             2022.11.0\n",
      "fst-pso                            1.8.1\n",
      "ftfy                               6.1.1\n",
      "future                             0.18.3\n",
      "FuzzyTM                            2.0.5\n",
      "gdown                              4.4.0\n",
      "gensim                             4.3.0\n",
      "gitdb                              4.0.10\n",
      "GitPython                          3.1.31\n",
      "glob2                              0.7\n",
      "google-api-core                    2.11.0\n",
      "google-auth                        2.18.0\n",
      "google-cloud-core                  2.3.2\n",
      "google-cloud-storage               2.9.0\n",
      "google-crc32c                      1.5.0\n",
      "google-resumable-media             2.5.0\n",
      "googleapis-common-protos           1.59.0\n",
      "googletrans                        3.1.0a0\n",
      "greenlet                           2.0.1\n",
      "h11                                0.9.0\n",
      "h2                                 3.2.0\n",
      "h5py                               3.7.0\n",
      "HeapDict                           1.0.1\n",
      "holoviews                          1.15.4\n",
      "hpack                              3.0.0\n",
      "hstspreload                        2023.1.1\n",
      "httpcore                           0.9.1\n",
      "httpx                              0.13.3\n",
      "huggingface-hub                    0.10.1\n",
      "hvplot                             0.8.2\n",
      "hyperframe                         5.2.0\n",
      "hyperlink                          21.0.0\n",
      "hyperopt                           0.2.7\n",
      "idna                               2.10\n",
      "imagecodecs                        2021.8.26\n",
      "imageio                            2.19.3\n",
      "imagesize                          1.4.1\n",
      "import-from-github-com             0.1\n",
      "importlib-metadata                 4.11.3\n",
      "importlib-resources                5.2.0\n",
      "incremental                        21.3.0\n",
      "iniconfig                          1.1.1\n",
      "intake                             0.6.7\n",
      "intervaltree                       3.1.0\n",
      "ipykernel                          6.19.2\n",
      "ipython                            8.10.0\n",
      "ipython-genutils                   0.2.0\n",
      "ipython-sql                        0.4.0\n",
      "ipywidgets                         7.6.5\n",
      "isort                              5.9.3\n",
      "itemadapter                        0.3.0\n",
      "itemloaders                        1.0.4\n",
      "itsdangerous                       2.0.1\n",
      "Janome                             0.4.2\n",
      "jdcal                              1.4.1\n",
      "jedi                               0.17.2\n",
      "Jinja2                             3.1.2\n",
      "jinja2-time                        0.2.0\n",
      "jmespath                           0.10.0\n",
      "joblib                             1.1.1\n",
      "json5                              0.9.6\n",
      "jsonpatch                          1.32\n",
      "jsonpickle                         3.0.1\n",
      "jsonpointer                        2.1\n",
      "jsonschema                         4.17.3\n",
      "jupyter                            1.0.0\n",
      "jupyter_client                     7.4.9\n",
      "jupyter-console                    6.6.2\n",
      "jupyter-contrib-core               0.4.2\n",
      "jupyter-contrib-nbextensions       0.7.0\n",
      "jupyter_core                       5.2.0\n",
      "jupyter-highlight-selected-word    0.2.0\n",
      "jupyter-nbextensions-configurator  0.6.1\n",
      "jupyter-server                     1.23.4\n",
      "jupyterlab                         3.5.3\n",
      "jupyterlab-pygments                0.1.2\n",
      "jupyterlab_server                  2.19.0\n",
      "jupyterlab-widgets                 1.0.0\n",
      "keyring                            23.4.0\n",
      "kiwisolver                         1.4.4\n",
      "langcodes                          3.3.0\n",
      "langdetect                         1.0.9\n",
      "lazy-object-proxy                  1.6.0\n",
      "lemminflect                        0.2.3\n",
      "lenskit                            0.14.2\n",
      "libarchive-c                       2.9\n",
      "llvmlite                           0.39.1\n",
      "lmdb                               1.4.1\n",
      "locket                             1.0.0\n",
      "lxml                               4.9.1\n",
      "lz4                                3.1.3\n",
      "Markdown                           3.4.1\n",
      "MarkupSafe                         2.1.1\n",
      "matplotlib                         3.7.0\n",
      "matplotlib-inline                  0.1.6\n",
      "mccabe                             0.6.1\n",
      "menuinst                           1.4.16\n",
      "miniful                            0.0.6\n",
      "mistune                            0.8.4\n",
      "mkl-fft                            1.3.1\n",
      "mkl-random                         1.2.2\n",
      "mkl-service                        2.4.0\n",
      "mock                               4.0.3\n",
      "more-itertools                     9.1.0\n",
      "mpld3                              0.3\n",
      "mpmath                             1.2.1\n",
      "msgpack                            1.0.3\n",
      "multidict                          6.0.2\n",
      "multipledispatch                   0.6.0\n",
      "multiprocess                       0.70.14\n",
      "munkres                            1.1.4\n",
      "murmurhash                         1.0.7\n",
      "mypy-extensions                    0.4.3\n",
      "mysqlclient                        2.0.3\n",
      "navigator-updater                  0.2.1\n",
      "nbclassic                          0.5.2\n",
      "nbclient                           0.5.13\n",
      "nbconvert                          6.5.4\n",
      "nbformat                           5.7.0\n",
      "nest-asyncio                       1.5.6\n",
      "networkx                           2.8.4\n",
      "nltk                               3.7\n",
      "nose                               1.3.7\n",
      "notebook                           6.5.2\n",
      "notebook_shim                      0.2.2\n",
      "numba                              0.56.4\n",
      "numexpr                            2.8.4\n",
      "numpy                              1.23.5\n",
      "numpydoc                           1.5.0\n",
      "olefile                            0.46\n",
      "openpyxl                           3.0.10\n",
      "packaging                          22.0\n",
      "pandas                             1.5.2\n",
      "pandocfilters                      1.5.0\n",
      "panel                              0.14.3\n",
      "param                              1.12.3\n",
      "paramiko                           2.8.1\n",
      "parsel                             1.6.0\n",
      "parso                              0.7.0\n",
      "partd                              1.2.0\n",
      "pathlib                            1.0.1\n",
      "pathspec                           0.10.3\n",
      "pathtools                          0.1.2\n",
      "pathy                              0.10.1\n",
      "patsy                              0.5.3\n",
      "pdfminer.six                       20211012\n",
      "pep8                               1.7.1\n",
      "pexpect                            4.8.0\n",
      "pickleshare                        0.7.5\n",
      "Pillow                             9.4.0\n",
      "pip                                23.1.2\n",
      "pkginfo                            1.8.3\n",
      "pkgutil_resolve_name               1.3.10\n",
      "platformdirs                       2.5.2\n",
      "plotly                             5.9.0\n",
      "pluggy                             1.0.0\n",
      "pooch                              1.4.0\n",
      "poyo                               0.5.0\n",
      "pptree                             3.1\n",
      "preshed                            3.0.6\n",
      "prettytable                        0.7.2\n",
      "prometheus-client                  0.14.1\n",
      "promise                            2.3\n",
      "prompt-toolkit                     3.0.36\n",
      "Protego                            0.1.16\n",
      "protobuf                           3.20.3\n",
      "psutil                             5.9.0\n",
      "ptyprocess                         0.7.0\n",
      "pure-eval                          0.2.2\n",
      "py                                 1.11.0\n",
      "py4j                               0.10.9.7\n",
      "pyarrow                            11.0.0\n",
      "pyasn1                             0.4.8\n",
      "pyasn1-modules                     0.2.8\n",
      "pyclausie                          0.1\n",
      "pycodestyle                        2.6.0\n",
      "pycosat                            0.6.4\n",
      "pycparser                          2.21\n",
      "pyct                               0.5.0\n",
      "pycurl                             7.45.1\n",
      "pydantic                           1.8.2\n",
      "PyDispatcher                       2.0.5\n",
      "pydocstyle                         6.3.0\n",
      "pydot                              1.4.2\n",
      "pydotplus                          2.0.2\n",
      "pyerfa                             2.0.0\n",
      "pyflakes                           2.2.0\n",
      "pyFUME                             0.2.25\n",
      "Pygments                           2.11.2\n",
      "PyHamcrest                         2.0.2\n",
      "PyJWT                              2.4.0\n",
      "pylint                             2.16.2\n",
      "pyls-black                         0.4.6\n",
      "pyls-spyder                        0.3.2\n",
      "PyMySQL                            1.0.2\n",
      "PyNaCl                             1.5.0\n",
      "pyodbc                             4.0.34\n",
      "pyopenie                           0.2.0\n",
      "pyOpenSSL                          23.0.0\n",
      "pyparsing                          3.0.9\n",
      "PyPDF2                             2.10.5\n",
      "pyrsistent                         0.18.0\n",
      "PySocks                            1.7.1\n",
      "pytest                             7.1.2\n",
      "python-dateutil                    2.8.2\n",
      "python-jsonrpc-server              0.4.0\n",
      "python-language-server             0.36.2\n",
      "python-slugify                     5.0.2\n",
      "python-snappy                      0.6.1\n",
      "pytoolconfig                       1.2.5\n",
      "pytorch_revgrad                    0.2.0\n",
      "pytz                               2022.7\n",
      "pyvis                              0.3.2\n",
      "pyviz-comms                        2.0.2\n",
      "PyWavelets                         1.4.1\n",
      "pywin32                            305.1\n",
      "pywin32-ctypes                     0.2.0\n",
      "pywinpty                           2.0.10\n",
      "PyYAML                             6.0\n",
      "pyzmq                              23.2.0\n",
      "QDarkStyle                         2.8.1\n",
      "QtAwesome                          1.2.2\n",
      "qtconsole                          5.4.0\n",
      "QtPy                               2.2.0\n",
      "queuelib                           1.5.0\n",
      "regex                              2022.7.9\n",
      "requests                           2.28.1\n",
      "requests-file                      1.5.1\n",
      "responses                          0.13.3\n",
      "rfc3986                            1.5.0\n",
      "rich                               12.6.0\n",
      "rope                               1.7.0\n",
      "rsa                                4.9\n",
      "Rtree                              1.0.1\n",
      "ruamel.yaml                        0.17.21\n",
      "ruamel.yaml.clib                   0.2.6\n",
      "ruamel-yaml-conda                  0.17.21\n",
      "s3transfer                         0.6.0\n",
      "sacremoses                         0.0.53\n",
      "scikit-image                       0.19.3\n",
      "scikit-learn                       1.2.1\n",
      "scikit-learn-intelex               20230228.214506\n",
      "scipy                              1.10.0\n",
      "Scrapy                             2.8.0\n",
      "seaborn                            0.12.2\n",
      "seedbank                           0.1.2\n",
      "segtok                             1.5.11\n",
      "Send2Trash                         1.8.0\n",
      "sentencepiece                      0.1.98\n",
      "sentry-sdk                         1.23.0\n",
      "seqeval                            1.2.2\n",
      "service-identity                   18.1.0\n",
      "setproctitle                       1.3.2\n",
      "setuptools                         65.6.3\n",
      "shellingham                        1.5.0\n",
      "shortuuid                          1.0.11\n",
      "simpful                            2.10.0\n",
      "sip                                4.19.13\n",
      "six                                1.16.0\n",
      "smart-open                         5.2.1\n",
      "smmap                              5.0.0\n",
      "sniffio                            1.2.0\n",
      "snowballstemmer                    2.2.0\n",
      "sortedcollections                  2.1.0\n",
      "sortedcontainers                   2.4.0\n",
      "soupsieve                          2.3.2.post1\n",
      "spacy                              3.3.2\n",
      "spacy-legacy                       3.0.9\n",
      "spacy-loggers                      1.0.1\n",
      "spacypdfreader                     0.2.1\n",
      "Sphinx                             5.0.2\n",
      "sphinxcontrib-applehelp            1.0.2\n",
      "sphinxcontrib-devhelp              1.0.2\n",
      "sphinxcontrib-htmlhelp             2.0.0\n",
      "sphinxcontrib-jsmath               1.0.1\n",
      "sphinxcontrib-qthelp               1.0.3\n",
      "sphinxcontrib-serializinghtml      1.1.5\n",
      "spyder                             4.2.5\n",
      "spyder-kernels                     1.10.2\n",
      "SQLAlchemy                         1.4.39\n",
      "sqlitedict                         2.1.0\n",
      "sqlparse                           0.4.1\n",
      "srsly                              2.4.3\n",
      "stack-data                         0.2.0\n",
      "stanford-openie                    1.3.1\n",
      "stanfordnlp                        0.2.0\n",
      "stanza                             1.5.0\n",
      "statsmodels                        0.13.5\n",
      "sympy                              1.11.1\n",
      "tables                             3.7.0\n",
      "tabulate                           0.8.10\n",
      "TBB                                0.2\n",
      "tblib                              1.7.0\n",
      "tenacity                           8.0.1\n",
      "tensorboardX                       2.6\n",
      "termcolor                          1.1.0\n",
      "terminado                          0.17.1\n",
      "testpath                           0.6.0\n",
      "text-unidecode                     1.3\n",
      "textblob                           0.17.1\n",
      "textdistance                       4.2.1\n",
      "thinc                              8.0.17\n",
      "threadpoolctl                      2.2.0\n",
      "three-merge                        0.1.1\n",
      "tifffile                           2021.7.2\n",
      "tinycss2                           1.2.1\n",
      "tldextract                         3.2.0\n",
      "tokenizers                         0.12.1\n",
      "toml                               0.10.2\n",
      "tomli                              2.0.1\n",
      "tomlkit                            0.11.1\n",
      "toolz                              0.12.0\n",
      "torch                              1.12.1\n",
      "torchvision                        0.13.1\n",
      "tornado                            6.2\n",
      "tqdm                               4.64.1\n",
      "traitlets                          5.7.1\n",
      "transformer-smaller-training-vocab 0.2.3\n",
      "transformers                       4.20.1\n",
      "Twisted                            22.2.0\n",
      "twisted-iocpsupport                1.0.2\n",
      "typer                              0.4.2\n",
      "typing_extensions                  4.4.0\n",
      "ujson                              5.4.0\n",
      "Unidecode                          1.2.0\n",
      "urllib3                            1.26.14\n",
      "vega-datasets                      0.9.0\n",
      "w3lib                              1.21.0\n",
      "wandb                              0.12.21\n",
      "wasabi                             0.9.1\n",
      "watchdog                           1.0.2\n",
      "wcwidth                            0.2.5\n",
      "webencodings                       0.5.1\n",
      "websocket-client                   0.58.0\n",
      "Werkzeug                           2.2.2\n",
      "wget                               3.2\n",
      "wheel                              0.38.4\n",
      "widgetsnbextension                 3.5.2\n",
      "Wikipedia-API                      0.5.8\n",
      "win-inet-pton                      1.1.0\n",
      "win-unicode-console                0.5\n",
      "wincertstore                       0.2\n",
      "wrapt                              1.14.1\n",
      "xarray                             2022.11.0\n",
      "xlrd                               2.0.1\n",
      "XlsxWriter                         3.0.3\n",
      "xlwings                            0.29.1\n",
      "xxhash                             2.0.2\n",
      "yapf                               0.31.0\n",
      "yarl                               1.8.1\n",
      "zict                               2.1.0\n",
      "zipp                               3.11.0\n",
      "zope.interface                     5.4.0\n",
      "zstandard                          0.19.0\n"
     ]
    }
   ],
   "source": [
    "# here there needs to be allenNLP in version 0.9.0\n",
    "!pip list command"
   ],
   "metadata": {
    "collapsed": false,
    "ExecuteTime": {
     "end_time": "2023-05-17T09:29:45.636461200Z",
     "start_time": "2023-05-17T09:29:43.763696200Z"
    }
   }
  },
  {
   "cell_type": "code",
   "execution_count": 24,
   "outputs": [
    {
     "name": "stdout",
     "output_type": "stream",
     "text": [
      "C:\\Users\\dnaen\\PycharmProjects\\bachelor_thesis_23\\externals\\supervised_oie_wrapper\\src\n"
     ]
    }
   ],
   "source": [
    "import os\n",
    "data_path = my_path + \"\\\\externals\\\\supervised_oie_wrapper\\\\src\"\n",
    "os.chdir(data_path)\n",
    "print(os.getcwd()) # need to be in \"externals\\supervised_oie_wrapper\\src\""
   ],
   "metadata": {
    "collapsed": false,
    "ExecuteTime": {
     "end_time": "2023-05-17T09:16:05.979523400Z",
     "start_time": "2023-05-17T09:16:05.968119300Z"
    }
   }
  },
  {
   "cell_type": "code",
   "execution_count": 25,
   "outputs": [
    {
     "name": "stderr",
     "output_type": "stream",
     "text": [
      "The system cannot find the file specified.\n"
     ]
    }
   ],
   "source": [
    "input = \"test\\\\example_level1.txt\"\n",
    "output = \"output\\\\answer.txt\"\n",
    "!python run_oie.py --in=input  --batch-size=<batch-size> --out=output [--cuda-device=<cude-device-identifier>]\n",
    "# python run_oie.py --in test/example_level1.txt  --batch-size=<batch-size> --out output/answer.txt [--cuda-device=<cude-device-identifier>]"
   ],
   "metadata": {
    "collapsed": false,
    "ExecuteTime": {
     "end_time": "2023-05-17T09:16:47.146854800Z",
     "start_time": "2023-05-17T09:16:47.095815500Z"
    }
   }
  },
  {
   "cell_type": "markdown",
   "source": [
    "# Attempt 2: https://github.com/jakelever/OpenSesamIE"
   ],
   "metadata": {
    "collapsed": false
   }
  },
  {
   "cell_type": "code",
   "execution_count": null,
   "outputs": [],
   "source": [
    "\"\"\"\n",
    "comments:\n",
    "- works\n",
    "- but it's a pretty simple approach that uses the SpacyIO dependency parser.\n",
    "\"\"\""
   ],
   "metadata": {
    "collapsed": false
   }
  },
  {
   "cell_type": "code",
   "execution_count": 6,
   "outputs": [
    {
     "name": "stdout",
     "output_type": "stream",
     "text": [
      "C:\\Users\\dnaen\\PycharmProjects\\bachelor_thesis_23\\externals\\OpenSesamIE\n"
     ]
    }
   ],
   "source": [
    "import os\n",
    "data_path = my_path + \"\\\\externals\\\\OpenSesamIE\"\n",
    "os.chdir(data_path)\n",
    "print(os.getcwd())"
   ],
   "metadata": {
    "collapsed": false,
    "ExecuteTime": {
     "end_time": "2023-05-17T09:33:47.477582900Z",
     "start_time": "2023-05-17T09:33:47.461427Z"
    }
   }
  },
  {
   "cell_type": "code",
   "execution_count": 7,
   "outputs": [
    {
     "name": "stdout",
     "output_type": "stream",
     "text": [
      "Parsing...\n",
      "['the necessary approximation', 'facilitate', 'individual rights']\n"
     ]
    }
   ],
   "source": [
    "!python opensesamie.py --in test/example_level3.txt --out relations.tsv"
   ],
   "metadata": {
    "collapsed": false,
    "ExecuteTime": {
     "end_time": "2023-05-17T09:34:04.326078700Z",
     "start_time": "2023-05-17T09:34:01.049518500Z"
    }
   }
  },
  {
   "cell_type": "markdown",
   "source": [
    "# Attempt 3: https://github.com/vaibhavad/python-wrapper-OpenIE5"
   ],
   "metadata": {
    "collapsed": false
   }
  },
  {
   "cell_type": "code",
   "execution_count": null,
   "outputs": [],
   "source": [
    "\"\"\"\n",
    "comments:\n",
    "- wasn't able to work it\n",
    "- requires the installation of java version, then starting the server, then running from here\n",
    "- too many tasks to do\n",
    "\"\"\""
   ],
   "metadata": {
    "collapsed": false
   }
  },
  {
   "cell_type": "code",
   "execution_count": null,
   "outputs": [],
   "source": [
    "!pip install pyopenie"
   ],
   "metadata": {
    "collapsed": false
   }
  },
  {
   "cell_type": "code",
   "execution_count": 34,
   "outputs": [
    {
     "ename": "Exception",
     "evalue": "Check whether you have started the OpenIE5 server",
     "output_type": "error",
     "traceback": [
      "\u001B[1;31m---------------------------------------------------------------------------\u001B[0m",
      "\u001B[1;31mConnectionRefusedError\u001B[0m                    Traceback (most recent call last)",
      "File \u001B[1;32m~\\anaconda3\\lib\\site-packages\\urllib3\\connection.py:174\u001B[0m, in \u001B[0;36mHTTPConnection._new_conn\u001B[1;34m(self)\u001B[0m\n\u001B[0;32m    173\u001B[0m \u001B[38;5;28;01mtry\u001B[39;00m:\n\u001B[1;32m--> 174\u001B[0m     conn \u001B[38;5;241m=\u001B[39m \u001B[43mconnection\u001B[49m\u001B[38;5;241;43m.\u001B[39;49m\u001B[43mcreate_connection\u001B[49m\u001B[43m(\u001B[49m\n\u001B[0;32m    175\u001B[0m \u001B[43m        \u001B[49m\u001B[43m(\u001B[49m\u001B[38;5;28;43mself\u001B[39;49m\u001B[38;5;241;43m.\u001B[39;49m\u001B[43m_dns_host\u001B[49m\u001B[43m,\u001B[49m\u001B[43m \u001B[49m\u001B[38;5;28;43mself\u001B[39;49m\u001B[38;5;241;43m.\u001B[39;49m\u001B[43mport\u001B[49m\u001B[43m)\u001B[49m\u001B[43m,\u001B[49m\u001B[43m \u001B[49m\u001B[38;5;28;43mself\u001B[39;49m\u001B[38;5;241;43m.\u001B[39;49m\u001B[43mtimeout\u001B[49m\u001B[43m,\u001B[49m\u001B[43m \u001B[49m\u001B[38;5;241;43m*\u001B[39;49m\u001B[38;5;241;43m*\u001B[39;49m\u001B[43mextra_kw\u001B[49m\n\u001B[0;32m    176\u001B[0m \u001B[43m    \u001B[49m\u001B[43m)\u001B[49m\n\u001B[0;32m    178\u001B[0m \u001B[38;5;28;01mexcept\u001B[39;00m SocketTimeout:\n",
      "File \u001B[1;32m~\\anaconda3\\lib\\site-packages\\urllib3\\util\\connection.py:95\u001B[0m, in \u001B[0;36mcreate_connection\u001B[1;34m(address, timeout, source_address, socket_options)\u001B[0m\n\u001B[0;32m     94\u001B[0m \u001B[38;5;28;01mif\u001B[39;00m err \u001B[38;5;129;01mis\u001B[39;00m \u001B[38;5;129;01mnot\u001B[39;00m \u001B[38;5;28;01mNone\u001B[39;00m:\n\u001B[1;32m---> 95\u001B[0m     \u001B[38;5;28;01mraise\u001B[39;00m err\n\u001B[0;32m     97\u001B[0m \u001B[38;5;28;01mraise\u001B[39;00m socket\u001B[38;5;241m.\u001B[39merror(\u001B[38;5;124m\"\u001B[39m\u001B[38;5;124mgetaddrinfo returns an empty list\u001B[39m\u001B[38;5;124m\"\u001B[39m)\n",
      "File \u001B[1;32m~\\anaconda3\\lib\\site-packages\\urllib3\\util\\connection.py:85\u001B[0m, in \u001B[0;36mcreate_connection\u001B[1;34m(address, timeout, source_address, socket_options)\u001B[0m\n\u001B[0;32m     84\u001B[0m     sock\u001B[38;5;241m.\u001B[39mbind(source_address)\n\u001B[1;32m---> 85\u001B[0m \u001B[43msock\u001B[49m\u001B[38;5;241;43m.\u001B[39;49m\u001B[43mconnect\u001B[49m\u001B[43m(\u001B[49m\u001B[43msa\u001B[49m\u001B[43m)\u001B[49m\n\u001B[0;32m     86\u001B[0m \u001B[38;5;28;01mreturn\u001B[39;00m sock\n",
      "\u001B[1;31mConnectionRefusedError\u001B[0m: [WinError 10061] No connection could be made because the target machine actively refused it",
      "\nDuring handling of the above exception, another exception occurred:\n",
      "\u001B[1;31mNewConnectionError\u001B[0m                        Traceback (most recent call last)",
      "File \u001B[1;32m~\\anaconda3\\lib\\site-packages\\urllib3\\connectionpool.py:703\u001B[0m, in \u001B[0;36mHTTPConnectionPool.urlopen\u001B[1;34m(self, method, url, body, headers, retries, redirect, assert_same_host, timeout, pool_timeout, release_conn, chunked, body_pos, **response_kw)\u001B[0m\n\u001B[0;32m    702\u001B[0m \u001B[38;5;66;03m# Make the request on the httplib connection object.\u001B[39;00m\n\u001B[1;32m--> 703\u001B[0m httplib_response \u001B[38;5;241m=\u001B[39m \u001B[38;5;28;43mself\u001B[39;49m\u001B[38;5;241;43m.\u001B[39;49m\u001B[43m_make_request\u001B[49m\u001B[43m(\u001B[49m\n\u001B[0;32m    704\u001B[0m \u001B[43m    \u001B[49m\u001B[43mconn\u001B[49m\u001B[43m,\u001B[49m\n\u001B[0;32m    705\u001B[0m \u001B[43m    \u001B[49m\u001B[43mmethod\u001B[49m\u001B[43m,\u001B[49m\n\u001B[0;32m    706\u001B[0m \u001B[43m    \u001B[49m\u001B[43murl\u001B[49m\u001B[43m,\u001B[49m\n\u001B[0;32m    707\u001B[0m \u001B[43m    \u001B[49m\u001B[43mtimeout\u001B[49m\u001B[38;5;241;43m=\u001B[39;49m\u001B[43mtimeout_obj\u001B[49m\u001B[43m,\u001B[49m\n\u001B[0;32m    708\u001B[0m \u001B[43m    \u001B[49m\u001B[43mbody\u001B[49m\u001B[38;5;241;43m=\u001B[39;49m\u001B[43mbody\u001B[49m\u001B[43m,\u001B[49m\n\u001B[0;32m    709\u001B[0m \u001B[43m    \u001B[49m\u001B[43mheaders\u001B[49m\u001B[38;5;241;43m=\u001B[39;49m\u001B[43mheaders\u001B[49m\u001B[43m,\u001B[49m\n\u001B[0;32m    710\u001B[0m \u001B[43m    \u001B[49m\u001B[43mchunked\u001B[49m\u001B[38;5;241;43m=\u001B[39;49m\u001B[43mchunked\u001B[49m\u001B[43m,\u001B[49m\n\u001B[0;32m    711\u001B[0m \u001B[43m\u001B[49m\u001B[43m)\u001B[49m\n\u001B[0;32m    713\u001B[0m \u001B[38;5;66;03m# If we're going to release the connection in ``finally:``, then\u001B[39;00m\n\u001B[0;32m    714\u001B[0m \u001B[38;5;66;03m# the response doesn't need to know about the connection. Otherwise\u001B[39;00m\n\u001B[0;32m    715\u001B[0m \u001B[38;5;66;03m# it will also try to release it and we'll have a double-release\u001B[39;00m\n\u001B[0;32m    716\u001B[0m \u001B[38;5;66;03m# mess.\u001B[39;00m\n",
      "File \u001B[1;32m~\\anaconda3\\lib\\site-packages\\urllib3\\connectionpool.py:398\u001B[0m, in \u001B[0;36mHTTPConnectionPool._make_request\u001B[1;34m(self, conn, method, url, timeout, chunked, **httplib_request_kw)\u001B[0m\n\u001B[0;32m    397\u001B[0m     \u001B[38;5;28;01melse\u001B[39;00m:\n\u001B[1;32m--> 398\u001B[0m         \u001B[43mconn\u001B[49m\u001B[38;5;241;43m.\u001B[39;49m\u001B[43mrequest\u001B[49m\u001B[43m(\u001B[49m\u001B[43mmethod\u001B[49m\u001B[43m,\u001B[49m\u001B[43m \u001B[49m\u001B[43murl\u001B[49m\u001B[43m,\u001B[49m\u001B[43m \u001B[49m\u001B[38;5;241;43m*\u001B[39;49m\u001B[38;5;241;43m*\u001B[39;49m\u001B[43mhttplib_request_kw\u001B[49m\u001B[43m)\u001B[49m\n\u001B[0;32m    400\u001B[0m \u001B[38;5;66;03m# We are swallowing BrokenPipeError (errno.EPIPE) since the server is\u001B[39;00m\n\u001B[0;32m    401\u001B[0m \u001B[38;5;66;03m# legitimately able to close the connection after sending a valid response.\u001B[39;00m\n\u001B[0;32m    402\u001B[0m \u001B[38;5;66;03m# With this behaviour, the received response is still readable.\u001B[39;00m\n",
      "File \u001B[1;32m~\\anaconda3\\lib\\site-packages\\urllib3\\connection.py:239\u001B[0m, in \u001B[0;36mHTTPConnection.request\u001B[1;34m(self, method, url, body, headers)\u001B[0m\n\u001B[0;32m    238\u001B[0m     headers[\u001B[38;5;124m\"\u001B[39m\u001B[38;5;124mUser-Agent\u001B[39m\u001B[38;5;124m\"\u001B[39m] \u001B[38;5;241m=\u001B[39m _get_default_user_agent()\n\u001B[1;32m--> 239\u001B[0m \u001B[38;5;28;43msuper\u001B[39;49m\u001B[43m(\u001B[49m\u001B[43mHTTPConnection\u001B[49m\u001B[43m,\u001B[49m\u001B[43m \u001B[49m\u001B[38;5;28;43mself\u001B[39;49m\u001B[43m)\u001B[49m\u001B[38;5;241;43m.\u001B[39;49m\u001B[43mrequest\u001B[49m\u001B[43m(\u001B[49m\u001B[43mmethod\u001B[49m\u001B[43m,\u001B[49m\u001B[43m \u001B[49m\u001B[43murl\u001B[49m\u001B[43m,\u001B[49m\u001B[43m \u001B[49m\u001B[43mbody\u001B[49m\u001B[38;5;241;43m=\u001B[39;49m\u001B[43mbody\u001B[49m\u001B[43m,\u001B[49m\u001B[43m \u001B[49m\u001B[43mheaders\u001B[49m\u001B[38;5;241;43m=\u001B[39;49m\u001B[43mheaders\u001B[49m\u001B[43m)\u001B[49m\n",
      "File \u001B[1;32m~\\anaconda3\\lib\\http\\client.py:1255\u001B[0m, in \u001B[0;36mHTTPConnection.request\u001B[1;34m(self, method, url, body, headers, encode_chunked)\u001B[0m\n\u001B[0;32m   1254\u001B[0m \u001B[38;5;124;03m\"\"\"Send a complete request to the server.\"\"\"\u001B[39;00m\n\u001B[1;32m-> 1255\u001B[0m \u001B[38;5;28;43mself\u001B[39;49m\u001B[38;5;241;43m.\u001B[39;49m\u001B[43m_send_request\u001B[49m\u001B[43m(\u001B[49m\u001B[43mmethod\u001B[49m\u001B[43m,\u001B[49m\u001B[43m \u001B[49m\u001B[43murl\u001B[49m\u001B[43m,\u001B[49m\u001B[43m \u001B[49m\u001B[43mbody\u001B[49m\u001B[43m,\u001B[49m\u001B[43m \u001B[49m\u001B[43mheaders\u001B[49m\u001B[43m,\u001B[49m\u001B[43m \u001B[49m\u001B[43mencode_chunked\u001B[49m\u001B[43m)\u001B[49m\n",
      "File \u001B[1;32m~\\anaconda3\\lib\\http\\client.py:1301\u001B[0m, in \u001B[0;36mHTTPConnection._send_request\u001B[1;34m(self, method, url, body, headers, encode_chunked)\u001B[0m\n\u001B[0;32m   1300\u001B[0m     body \u001B[38;5;241m=\u001B[39m _encode(body, \u001B[38;5;124m'\u001B[39m\u001B[38;5;124mbody\u001B[39m\u001B[38;5;124m'\u001B[39m)\n\u001B[1;32m-> 1301\u001B[0m \u001B[38;5;28;43mself\u001B[39;49m\u001B[38;5;241;43m.\u001B[39;49m\u001B[43mendheaders\u001B[49m\u001B[43m(\u001B[49m\u001B[43mbody\u001B[49m\u001B[43m,\u001B[49m\u001B[43m \u001B[49m\u001B[43mencode_chunked\u001B[49m\u001B[38;5;241;43m=\u001B[39;49m\u001B[43mencode_chunked\u001B[49m\u001B[43m)\u001B[49m\n",
      "File \u001B[1;32m~\\anaconda3\\lib\\http\\client.py:1250\u001B[0m, in \u001B[0;36mHTTPConnection.endheaders\u001B[1;34m(self, message_body, encode_chunked)\u001B[0m\n\u001B[0;32m   1249\u001B[0m     \u001B[38;5;28;01mraise\u001B[39;00m CannotSendHeader()\n\u001B[1;32m-> 1250\u001B[0m \u001B[38;5;28;43mself\u001B[39;49m\u001B[38;5;241;43m.\u001B[39;49m\u001B[43m_send_output\u001B[49m\u001B[43m(\u001B[49m\u001B[43mmessage_body\u001B[49m\u001B[43m,\u001B[49m\u001B[43m \u001B[49m\u001B[43mencode_chunked\u001B[49m\u001B[38;5;241;43m=\u001B[39;49m\u001B[43mencode_chunked\u001B[49m\u001B[43m)\u001B[49m\n",
      "File \u001B[1;32m~\\anaconda3\\lib\\http\\client.py:1010\u001B[0m, in \u001B[0;36mHTTPConnection._send_output\u001B[1;34m(self, message_body, encode_chunked)\u001B[0m\n\u001B[0;32m   1009\u001B[0m \u001B[38;5;28;01mdel\u001B[39;00m \u001B[38;5;28mself\u001B[39m\u001B[38;5;241m.\u001B[39m_buffer[:]\n\u001B[1;32m-> 1010\u001B[0m \u001B[38;5;28;43mself\u001B[39;49m\u001B[38;5;241;43m.\u001B[39;49m\u001B[43msend\u001B[49m\u001B[43m(\u001B[49m\u001B[43mmsg\u001B[49m\u001B[43m)\u001B[49m\n\u001B[0;32m   1012\u001B[0m \u001B[38;5;28;01mif\u001B[39;00m message_body \u001B[38;5;129;01mis\u001B[39;00m \u001B[38;5;129;01mnot\u001B[39;00m \u001B[38;5;28;01mNone\u001B[39;00m:\n\u001B[0;32m   1013\u001B[0m \n\u001B[0;32m   1014\u001B[0m     \u001B[38;5;66;03m# create a consistent interface to message_body\u001B[39;00m\n",
      "File \u001B[1;32m~\\anaconda3\\lib\\http\\client.py:950\u001B[0m, in \u001B[0;36mHTTPConnection.send\u001B[1;34m(self, data)\u001B[0m\n\u001B[0;32m    949\u001B[0m \u001B[38;5;28;01mif\u001B[39;00m \u001B[38;5;28mself\u001B[39m\u001B[38;5;241m.\u001B[39mauto_open:\n\u001B[1;32m--> 950\u001B[0m     \u001B[38;5;28;43mself\u001B[39;49m\u001B[38;5;241;43m.\u001B[39;49m\u001B[43mconnect\u001B[49m\u001B[43m(\u001B[49m\u001B[43m)\u001B[49m\n\u001B[0;32m    951\u001B[0m \u001B[38;5;28;01melse\u001B[39;00m:\n",
      "File \u001B[1;32m~\\anaconda3\\lib\\site-packages\\urllib3\\connection.py:205\u001B[0m, in \u001B[0;36mHTTPConnection.connect\u001B[1;34m(self)\u001B[0m\n\u001B[0;32m    204\u001B[0m \u001B[38;5;28;01mdef\u001B[39;00m \u001B[38;5;21mconnect\u001B[39m(\u001B[38;5;28mself\u001B[39m):\n\u001B[1;32m--> 205\u001B[0m     conn \u001B[38;5;241m=\u001B[39m \u001B[38;5;28;43mself\u001B[39;49m\u001B[38;5;241;43m.\u001B[39;49m\u001B[43m_new_conn\u001B[49m\u001B[43m(\u001B[49m\u001B[43m)\u001B[49m\n\u001B[0;32m    206\u001B[0m     \u001B[38;5;28mself\u001B[39m\u001B[38;5;241m.\u001B[39m_prepare_conn(conn)\n",
      "File \u001B[1;32m~\\anaconda3\\lib\\site-packages\\urllib3\\connection.py:186\u001B[0m, in \u001B[0;36mHTTPConnection._new_conn\u001B[1;34m(self)\u001B[0m\n\u001B[0;32m    185\u001B[0m \u001B[38;5;28;01mexcept\u001B[39;00m SocketError \u001B[38;5;28;01mas\u001B[39;00m e:\n\u001B[1;32m--> 186\u001B[0m     \u001B[38;5;28;01mraise\u001B[39;00m NewConnectionError(\n\u001B[0;32m    187\u001B[0m         \u001B[38;5;28mself\u001B[39m, \u001B[38;5;124m\"\u001B[39m\u001B[38;5;124mFailed to establish a new connection: \u001B[39m\u001B[38;5;132;01m%s\u001B[39;00m\u001B[38;5;124m\"\u001B[39m \u001B[38;5;241m%\u001B[39m e\n\u001B[0;32m    188\u001B[0m     )\n\u001B[0;32m    190\u001B[0m \u001B[38;5;28;01mreturn\u001B[39;00m conn\n",
      "\u001B[1;31mNewConnectionError\u001B[0m: <urllib3.connection.HTTPConnection object at 0x00000254EA838EE0>: Failed to establish a new connection: [WinError 10061] No connection could be made because the target machine actively refused it",
      "\nDuring handling of the above exception, another exception occurred:\n",
      "\u001B[1;31mMaxRetryError\u001B[0m                             Traceback (most recent call last)",
      "File \u001B[1;32m~\\anaconda3\\lib\\site-packages\\requests\\adapters.py:489\u001B[0m, in \u001B[0;36mHTTPAdapter.send\u001B[1;34m(self, request, stream, timeout, verify, cert, proxies)\u001B[0m\n\u001B[0;32m    488\u001B[0m \u001B[38;5;28;01mif\u001B[39;00m \u001B[38;5;129;01mnot\u001B[39;00m chunked:\n\u001B[1;32m--> 489\u001B[0m     resp \u001B[38;5;241m=\u001B[39m \u001B[43mconn\u001B[49m\u001B[38;5;241;43m.\u001B[39;49m\u001B[43murlopen\u001B[49m\u001B[43m(\u001B[49m\n\u001B[0;32m    490\u001B[0m \u001B[43m        \u001B[49m\u001B[43mmethod\u001B[49m\u001B[38;5;241;43m=\u001B[39;49m\u001B[43mrequest\u001B[49m\u001B[38;5;241;43m.\u001B[39;49m\u001B[43mmethod\u001B[49m\u001B[43m,\u001B[49m\n\u001B[0;32m    491\u001B[0m \u001B[43m        \u001B[49m\u001B[43murl\u001B[49m\u001B[38;5;241;43m=\u001B[39;49m\u001B[43murl\u001B[49m\u001B[43m,\u001B[49m\n\u001B[0;32m    492\u001B[0m \u001B[43m        \u001B[49m\u001B[43mbody\u001B[49m\u001B[38;5;241;43m=\u001B[39;49m\u001B[43mrequest\u001B[49m\u001B[38;5;241;43m.\u001B[39;49m\u001B[43mbody\u001B[49m\u001B[43m,\u001B[49m\n\u001B[0;32m    493\u001B[0m \u001B[43m        \u001B[49m\u001B[43mheaders\u001B[49m\u001B[38;5;241;43m=\u001B[39;49m\u001B[43mrequest\u001B[49m\u001B[38;5;241;43m.\u001B[39;49m\u001B[43mheaders\u001B[49m\u001B[43m,\u001B[49m\n\u001B[0;32m    494\u001B[0m \u001B[43m        \u001B[49m\u001B[43mredirect\u001B[49m\u001B[38;5;241;43m=\u001B[39;49m\u001B[38;5;28;43;01mFalse\u001B[39;49;00m\u001B[43m,\u001B[49m\n\u001B[0;32m    495\u001B[0m \u001B[43m        \u001B[49m\u001B[43massert_same_host\u001B[49m\u001B[38;5;241;43m=\u001B[39;49m\u001B[38;5;28;43;01mFalse\u001B[39;49;00m\u001B[43m,\u001B[49m\n\u001B[0;32m    496\u001B[0m \u001B[43m        \u001B[49m\u001B[43mpreload_content\u001B[49m\u001B[38;5;241;43m=\u001B[39;49m\u001B[38;5;28;43;01mFalse\u001B[39;49;00m\u001B[43m,\u001B[49m\n\u001B[0;32m    497\u001B[0m \u001B[43m        \u001B[49m\u001B[43mdecode_content\u001B[49m\u001B[38;5;241;43m=\u001B[39;49m\u001B[38;5;28;43;01mFalse\u001B[39;49;00m\u001B[43m,\u001B[49m\n\u001B[0;32m    498\u001B[0m \u001B[43m        \u001B[49m\u001B[43mretries\u001B[49m\u001B[38;5;241;43m=\u001B[39;49m\u001B[38;5;28;43mself\u001B[39;49m\u001B[38;5;241;43m.\u001B[39;49m\u001B[43mmax_retries\u001B[49m\u001B[43m,\u001B[49m\n\u001B[0;32m    499\u001B[0m \u001B[43m        \u001B[49m\u001B[43mtimeout\u001B[49m\u001B[38;5;241;43m=\u001B[39;49m\u001B[43mtimeout\u001B[49m\u001B[43m,\u001B[49m\n\u001B[0;32m    500\u001B[0m \u001B[43m    \u001B[49m\u001B[43m)\u001B[49m\n\u001B[0;32m    502\u001B[0m \u001B[38;5;66;03m# Send the request.\u001B[39;00m\n\u001B[0;32m    503\u001B[0m \u001B[38;5;28;01melse\u001B[39;00m:\n",
      "File \u001B[1;32m~\\anaconda3\\lib\\site-packages\\urllib3\\connectionpool.py:787\u001B[0m, in \u001B[0;36mHTTPConnectionPool.urlopen\u001B[1;34m(self, method, url, body, headers, retries, redirect, assert_same_host, timeout, pool_timeout, release_conn, chunked, body_pos, **response_kw)\u001B[0m\n\u001B[0;32m    785\u001B[0m     e \u001B[38;5;241m=\u001B[39m ProtocolError(\u001B[38;5;124m\"\u001B[39m\u001B[38;5;124mConnection aborted.\u001B[39m\u001B[38;5;124m\"\u001B[39m, e)\n\u001B[1;32m--> 787\u001B[0m retries \u001B[38;5;241m=\u001B[39m \u001B[43mretries\u001B[49m\u001B[38;5;241;43m.\u001B[39;49m\u001B[43mincrement\u001B[49m\u001B[43m(\u001B[49m\n\u001B[0;32m    788\u001B[0m \u001B[43m    \u001B[49m\u001B[43mmethod\u001B[49m\u001B[43m,\u001B[49m\u001B[43m \u001B[49m\u001B[43murl\u001B[49m\u001B[43m,\u001B[49m\u001B[43m \u001B[49m\u001B[43merror\u001B[49m\u001B[38;5;241;43m=\u001B[39;49m\u001B[43me\u001B[49m\u001B[43m,\u001B[49m\u001B[43m \u001B[49m\u001B[43m_pool\u001B[49m\u001B[38;5;241;43m=\u001B[39;49m\u001B[38;5;28;43mself\u001B[39;49m\u001B[43m,\u001B[49m\u001B[43m \u001B[49m\u001B[43m_stacktrace\u001B[49m\u001B[38;5;241;43m=\u001B[39;49m\u001B[43msys\u001B[49m\u001B[38;5;241;43m.\u001B[39;49m\u001B[43mexc_info\u001B[49m\u001B[43m(\u001B[49m\u001B[43m)\u001B[49m\u001B[43m[\u001B[49m\u001B[38;5;241;43m2\u001B[39;49m\u001B[43m]\u001B[49m\n\u001B[0;32m    789\u001B[0m \u001B[43m\u001B[49m\u001B[43m)\u001B[49m\n\u001B[0;32m    790\u001B[0m retries\u001B[38;5;241m.\u001B[39msleep()\n",
      "File \u001B[1;32m~\\anaconda3\\lib\\site-packages\\urllib3\\util\\retry.py:592\u001B[0m, in \u001B[0;36mRetry.increment\u001B[1;34m(self, method, url, response, error, _pool, _stacktrace)\u001B[0m\n\u001B[0;32m    591\u001B[0m \u001B[38;5;28;01mif\u001B[39;00m new_retry\u001B[38;5;241m.\u001B[39mis_exhausted():\n\u001B[1;32m--> 592\u001B[0m     \u001B[38;5;28;01mraise\u001B[39;00m MaxRetryError(_pool, url, error \u001B[38;5;129;01mor\u001B[39;00m ResponseError(cause))\n\u001B[0;32m    594\u001B[0m log\u001B[38;5;241m.\u001B[39mdebug(\u001B[38;5;124m\"\u001B[39m\u001B[38;5;124mIncremented Retry for (url=\u001B[39m\u001B[38;5;124m'\u001B[39m\u001B[38;5;132;01m%s\u001B[39;00m\u001B[38;5;124m'\u001B[39m\u001B[38;5;124m): \u001B[39m\u001B[38;5;132;01m%r\u001B[39;00m\u001B[38;5;124m\"\u001B[39m, url, new_retry)\n",
      "\u001B[1;31mMaxRetryError\u001B[0m: HTTPConnectionPool(host='localhost', port=9000): Max retries exceeded with url: / (Caused by NewConnectionError('<urllib3.connection.HTTPConnection object at 0x00000254EA838EE0>: Failed to establish a new connection: [WinError 10061] No connection could be made because the target machine actively refused it'))",
      "\nDuring handling of the above exception, another exception occurred:\n",
      "\u001B[1;31mConnectionError\u001B[0m                           Traceback (most recent call last)",
      "File \u001B[1;32m~\\anaconda3\\lib\\site-packages\\pyopenie\\openie.py:20\u001B[0m, in \u001B[0;36mOpenIE5.extract\u001B[1;34m(self, text, properties)\u001B[0m\n\u001B[0;32m     19\u001B[0m \u001B[38;5;28;01mtry\u001B[39;00m:\n\u001B[1;32m---> 20\u001B[0m     \u001B[43mrequests\u001B[49m\u001B[38;5;241;43m.\u001B[39;49m\u001B[43mget\u001B[49m\u001B[43m(\u001B[49m\u001B[38;5;28;43mself\u001B[39;49m\u001B[38;5;241;43m.\u001B[39;49m\u001B[43mserver_url\u001B[49m\u001B[43m)\u001B[49m\n\u001B[0;32m     21\u001B[0m \u001B[38;5;28;01mexcept\u001B[39;00m requests\u001B[38;5;241m.\u001B[39mexceptions\u001B[38;5;241m.\u001B[39mConnectionError:\n",
      "File \u001B[1;32m~\\anaconda3\\lib\\site-packages\\requests\\api.py:73\u001B[0m, in \u001B[0;36mget\u001B[1;34m(url, params, **kwargs)\u001B[0m\n\u001B[0;32m     63\u001B[0m \u001B[38;5;124mr\u001B[39m\u001B[38;5;124;03m\"\"\"Sends a GET request.\u001B[39;00m\n\u001B[0;32m     64\u001B[0m \n\u001B[0;32m     65\u001B[0m \u001B[38;5;124;03m:param url: URL for the new :class:`Request` object.\u001B[39;00m\n\u001B[1;32m   (...)\u001B[0m\n\u001B[0;32m     70\u001B[0m \u001B[38;5;124;03m:rtype: requests.Response\u001B[39;00m\n\u001B[0;32m     71\u001B[0m \u001B[38;5;124;03m\"\"\"\u001B[39;00m\n\u001B[1;32m---> 73\u001B[0m \u001B[38;5;28;01mreturn\u001B[39;00m \u001B[43mrequest\u001B[49m\u001B[43m(\u001B[49m\u001B[38;5;124;43m\"\u001B[39;49m\u001B[38;5;124;43mget\u001B[39;49m\u001B[38;5;124;43m\"\u001B[39;49m\u001B[43m,\u001B[49m\u001B[43m \u001B[49m\u001B[43murl\u001B[49m\u001B[43m,\u001B[49m\u001B[43m \u001B[49m\u001B[43mparams\u001B[49m\u001B[38;5;241;43m=\u001B[39;49m\u001B[43mparams\u001B[49m\u001B[43m,\u001B[49m\u001B[43m \u001B[49m\u001B[38;5;241;43m*\u001B[39;49m\u001B[38;5;241;43m*\u001B[39;49m\u001B[43mkwargs\u001B[49m\u001B[43m)\u001B[49m\n",
      "File \u001B[1;32m~\\anaconda3\\lib\\site-packages\\requests\\api.py:59\u001B[0m, in \u001B[0;36mrequest\u001B[1;34m(method, url, **kwargs)\u001B[0m\n\u001B[0;32m     58\u001B[0m \u001B[38;5;28;01mwith\u001B[39;00m sessions\u001B[38;5;241m.\u001B[39mSession() \u001B[38;5;28;01mas\u001B[39;00m session:\n\u001B[1;32m---> 59\u001B[0m     \u001B[38;5;28;01mreturn\u001B[39;00m \u001B[43msession\u001B[49m\u001B[38;5;241;43m.\u001B[39;49m\u001B[43mrequest\u001B[49m\u001B[43m(\u001B[49m\u001B[43mmethod\u001B[49m\u001B[38;5;241;43m=\u001B[39;49m\u001B[43mmethod\u001B[49m\u001B[43m,\u001B[49m\u001B[43m \u001B[49m\u001B[43murl\u001B[49m\u001B[38;5;241;43m=\u001B[39;49m\u001B[43murl\u001B[49m\u001B[43m,\u001B[49m\u001B[43m \u001B[49m\u001B[38;5;241;43m*\u001B[39;49m\u001B[38;5;241;43m*\u001B[39;49m\u001B[43mkwargs\u001B[49m\u001B[43m)\u001B[49m\n",
      "File \u001B[1;32m~\\anaconda3\\lib\\site-packages\\requests\\sessions.py:587\u001B[0m, in \u001B[0;36mSession.request\u001B[1;34m(self, method, url, params, data, headers, cookies, files, auth, timeout, allow_redirects, proxies, hooks, stream, verify, cert, json)\u001B[0m\n\u001B[0;32m    586\u001B[0m send_kwargs\u001B[38;5;241m.\u001B[39mupdate(settings)\n\u001B[1;32m--> 587\u001B[0m resp \u001B[38;5;241m=\u001B[39m \u001B[38;5;28;43mself\u001B[39;49m\u001B[38;5;241;43m.\u001B[39;49m\u001B[43msend\u001B[49m\u001B[43m(\u001B[49m\u001B[43mprep\u001B[49m\u001B[43m,\u001B[49m\u001B[43m \u001B[49m\u001B[38;5;241;43m*\u001B[39;49m\u001B[38;5;241;43m*\u001B[39;49m\u001B[43msend_kwargs\u001B[49m\u001B[43m)\u001B[49m\n\u001B[0;32m    589\u001B[0m \u001B[38;5;28;01mreturn\u001B[39;00m resp\n",
      "File \u001B[1;32m~\\anaconda3\\lib\\site-packages\\requests\\sessions.py:701\u001B[0m, in \u001B[0;36mSession.send\u001B[1;34m(self, request, **kwargs)\u001B[0m\n\u001B[0;32m    700\u001B[0m \u001B[38;5;66;03m# Send the request\u001B[39;00m\n\u001B[1;32m--> 701\u001B[0m r \u001B[38;5;241m=\u001B[39m \u001B[43madapter\u001B[49m\u001B[38;5;241;43m.\u001B[39;49m\u001B[43msend\u001B[49m\u001B[43m(\u001B[49m\u001B[43mrequest\u001B[49m\u001B[43m,\u001B[49m\u001B[43m \u001B[49m\u001B[38;5;241;43m*\u001B[39;49m\u001B[38;5;241;43m*\u001B[39;49m\u001B[43mkwargs\u001B[49m\u001B[43m)\u001B[49m\n\u001B[0;32m    703\u001B[0m \u001B[38;5;66;03m# Total elapsed time of the request (approximately)\u001B[39;00m\n",
      "File \u001B[1;32m~\\anaconda3\\lib\\site-packages\\requests\\adapters.py:565\u001B[0m, in \u001B[0;36mHTTPAdapter.send\u001B[1;34m(self, request, stream, timeout, verify, cert, proxies)\u001B[0m\n\u001B[0;32m    563\u001B[0m         \u001B[38;5;28;01mraise\u001B[39;00m SSLError(e, request\u001B[38;5;241m=\u001B[39mrequest)\n\u001B[1;32m--> 565\u001B[0m     \u001B[38;5;28;01mraise\u001B[39;00m \u001B[38;5;167;01mConnectionError\u001B[39;00m(e, request\u001B[38;5;241m=\u001B[39mrequest)\n\u001B[0;32m    567\u001B[0m \u001B[38;5;28;01mexcept\u001B[39;00m ClosedPoolError \u001B[38;5;28;01mas\u001B[39;00m e:\n",
      "\u001B[1;31mConnectionError\u001B[0m: HTTPConnectionPool(host='localhost', port=9000): Max retries exceeded with url: / (Caused by NewConnectionError('<urllib3.connection.HTTPConnection object at 0x00000254EA838EE0>: Failed to establish a new connection: [WinError 10061] No connection could be made because the target machine actively refused it'))",
      "\nDuring handling of the above exception, another exception occurred:\n",
      "\u001B[1;31mException\u001B[0m                                 Traceback (most recent call last)",
      "Cell \u001B[1;32mIn[34], line 4\u001B[0m\n\u001B[0;32m      1\u001B[0m \u001B[38;5;28;01mfrom\u001B[39;00m \u001B[38;5;21;01mpyopenie\u001B[39;00m \u001B[38;5;28;01mimport\u001B[39;00m OpenIE5\n\u001B[0;32m      3\u001B[0m extractor \u001B[38;5;241m=\u001B[39m OpenIE5(\u001B[38;5;124m'\u001B[39m\u001B[38;5;124mhttp://localhost:9000\u001B[39m\u001B[38;5;124m'\u001B[39m)\n\u001B[1;32m----> 4\u001B[0m extractions \u001B[38;5;241m=\u001B[39m \u001B[43mextractor\u001B[49m\u001B[38;5;241;43m.\u001B[39;49m\u001B[43mextract\u001B[49m\u001B[43m(\u001B[49m\u001B[38;5;124;43m\"\u001B[39;49m\u001B[38;5;124;43mThe U.S. president Barack Obama gave his speech to thousands of people.\u001B[39;49m\u001B[38;5;124;43m\"\u001B[39;49m\u001B[43m)\u001B[49m\n",
      "File \u001B[1;32m~\\anaconda3\\lib\\site-packages\\pyopenie\\openie.py:22\u001B[0m, in \u001B[0;36mOpenIE5.extract\u001B[1;34m(self, text, properties)\u001B[0m\n\u001B[0;32m     20\u001B[0m     requests\u001B[38;5;241m.\u001B[39mget(\u001B[38;5;28mself\u001B[39m\u001B[38;5;241m.\u001B[39mserver_url)\n\u001B[0;32m     21\u001B[0m \u001B[38;5;28;01mexcept\u001B[39;00m requests\u001B[38;5;241m.\u001B[39mexceptions\u001B[38;5;241m.\u001B[39mConnectionError:\n\u001B[1;32m---> 22\u001B[0m     \u001B[38;5;28;01mraise\u001B[39;00m \u001B[38;5;167;01mException\u001B[39;00m(\u001B[38;5;124m'\u001B[39m\u001B[38;5;124mCheck whether you have started the OpenIE5 server\u001B[39m\u001B[38;5;124m'\u001B[39m)\n\u001B[0;32m     24\u001B[0m data \u001B[38;5;241m=\u001B[39m text\u001B[38;5;241m.\u001B[39mencode(\u001B[38;5;124m'\u001B[39m\u001B[38;5;124mutf-8\u001B[39m\u001B[38;5;124m'\u001B[39m)\n\u001B[0;32m     26\u001B[0m r \u001B[38;5;241m=\u001B[39m requests\u001B[38;5;241m.\u001B[39mpost(\n\u001B[0;32m     27\u001B[0m     \u001B[38;5;28mself\u001B[39m\u001B[38;5;241m.\u001B[39mserver_url \u001B[38;5;241m+\u001B[39m \u001B[38;5;28mself\u001B[39m\u001B[38;5;241m.\u001B[39mextract_context, params\u001B[38;5;241m=\u001B[39m{\n\u001B[0;32m     28\u001B[0m         \u001B[38;5;124m'\u001B[39m\u001B[38;5;124mproperties\u001B[39m\u001B[38;5;124m'\u001B[39m: \u001B[38;5;28mstr\u001B[39m(properties)\n\u001B[0;32m     29\u001B[0m     }, data\u001B[38;5;241m=\u001B[39mdata, headers\u001B[38;5;241m=\u001B[39m{\u001B[38;5;124m'\u001B[39m\u001B[38;5;124mConnection\u001B[39m\u001B[38;5;124m'\u001B[39m: \u001B[38;5;124m'\u001B[39m\u001B[38;5;124mclose\u001B[39m\u001B[38;5;124m'\u001B[39m})\n",
      "\u001B[1;31mException\u001B[0m: Check whether you have started the OpenIE5 server"
     ]
    }
   ],
   "source": [
    "from pyopenie import OpenIE5\n",
    "\n",
    "extractor = OpenIE5('http://localhost:9000')\n",
    "extractions = extractor.extract(\"The U.S. president Barack Obama gave his speech to thousands of people.\")\n"
   ],
   "metadata": {
    "collapsed": false,
    "ExecuteTime": {
     "end_time": "2023-05-16T09:27:09.151930800Z",
     "start_time": "2023-05-16T09:27:03.167756600Z"
    }
   }
  },
  {
   "cell_type": "code",
   "execution_count": 29,
   "outputs": [
    {
     "name": "stderr",
     "output_type": "stream",
     "text": [
      "  % Total    % Received % Xferd  Average Speed   Time    Time     Time  Current\n",
      "                                 Dload  Upload   Total   Spent    Left  Speed\n",
      "\n",
      "  0     0    0     0    0     0      0      0 --:--:-- --:--:-- --:--:--     0\n",
      "  0     0    0     0    0     0      0      0 --:--:--  0:00:01 --:--:--     0\n",
      "  0     0    0     0    0     0      0      0 --:--:--  0:00:02 --:--:--     0\n",
      "  0     0    0     0    0     0      0      0 --:--:--  0:00:02 --:--:--     0\n",
      "curl: (7) Failed to connect to localhost port 8000 after 2248 ms: Couldn't connect to server\n",
      "  % Total    % Received % Xferd  Average Speed   Time    Time     Time  Current\n",
      "                                 Dload  Upload   Total   Spent    Left  Speed\n",
      "\n",
      "  0     0    0     0    0     0      0      0 --:--:-- --:--:-- --:--:--     0curl: (6) Could not resolve host: U.S.\n",
      "  % Total    % Received % Xferd  Average Speed   Time    Time     Time  Current\n",
      "                                 Dload  Upload   Total   Spent    Left  Speed\n",
      "\n",
      "  0     0    0     0    0     0      0      0 --:--:-- --:--:-- --:--:--     0\n",
      "  0     0    0     0    0     0      0      0 --:--:-- --:--:-- --:--:--     0\n",
      "  0     0    0     0    0     0      0      0 --:--:--  0:00:01 --:--:--     0\n",
      "  0     0    0     0    0     0      0      0 --:--:--  0:00:02 --:--:--     0\n",
      "  0     0    0     0    0     0      0      0 --:--:--  0:00:03 --:--:--     0\n",
      "  0     0    0     0    0     0      0      0 --:--:--  0:00:04 --:--:--     0\n",
      "  0     0    0     0    0     0      0      0 --:--:--  0:00:05 --:--:--     0\n",
      "  0     0    0     0    0     0      0      0 --:--:--  0:00:06 --:--:--     0curl: (6) Could not resolve host: president\n",
      "  % Total    % Received % Xferd  Average Speed   Time    Time     Time  Current\n",
      "                                 Dload  Upload   Total   Spent    Left  Speed\n",
      "\n",
      "  0     0    0     0    0     0      0      0 --:--:-- --:--:-- --:--:--     0\n",
      "  0     0    0     0    0     0      0      0 --:--:-- --:--:-- --:--:--     0\n",
      "  0     0    0     0    0     0      0      0 --:--:--  0:00:01 --:--:--     0\n",
      "  0     0    0     0    0     0      0      0 --:--:--  0:00:02 --:--:--     0\n",
      "  0     0    0     0    0     0      0      0 --:--:--  0:00:03 --:--:--     0\n",
      "  0     0    0     0    0     0      0      0 --:--:--  0:00:04 --:--:--     0\n",
      "  0     0    0     0    0     0      0      0 --:--:--  0:00:05 --:--:--     0\n",
      "  0     0    0     0    0     0      0      0 --:--:--  0:00:06 --:--:--     0curl: (6) Could not resolve host: Barack\n",
      "  % Total    % Received % Xferd  Average Speed   Time    Time     Time  Current\n",
      "                                 Dload  Upload   Total   Spent    Left  Speed\n",
      "\n",
      "  0     0    0     0    0     0      0      0 --:--:-- --:--:-- --:--:--     0\n",
      "  0     0    0     0    0     0      0      0 --:--:--  0:00:01 --:--:--     0\n",
      "  0     0    0     0    0     0      0      0 --:--:--  0:00:02 --:--:--     0\n",
      "  0     0    0     0    0     0      0      0 --:--:--  0:00:02 --:--:--     0\n",
      "  0     0    0     0    0     0      0      0 --:--:--  0:00:03 --:--:--     0\n",
      "  0     0    0     0    0     0      0      0 --:--:--  0:00:04 --:--:--     0\n",
      "  0     0    0     0    0     0      0      0 --:--:--  0:00:05 --:--:--     0curl: (6) Could not resolve host: Obama\n",
      "  % Total    % Received % Xferd  Average Speed   Time    Time     Time  Current\n",
      "                                 Dload  Upload   Total   Spent    Left  Speed\n",
      "\n",
      "  0     0    0     0    0     0      0      0 --:--:-- --:--:-- --:--:--     0\n",
      "  0     0    0     0    0     0      0      0 --:--:-- --:--:-- --:--:--     0\n",
      "  0     0    0     0    0     0      0      0 --:--:--  0:00:01 --:--:--     0\n",
      "  0     0    0     0    0     0      0      0 --:--:--  0:00:02 --:--:--     0\n",
      "  0     0    0     0    0     0      0      0 --:--:--  0:00:03 --:--:--     0\n",
      "  0     0    0     0    0     0      0      0 --:--:--  0:00:04 --:--:--     0\n",
      "  0     0    0     0    0     0      0      0 --:--:--  0:00:05 --:--:--     0\n",
      "  0     0    0     0    0     0      0      0 --:--:--  0:00:06 --:--:--     0curl: (6) Could not resolve host: gave\n",
      "  % Total    % Received % Xferd  Average Speed   Time    Time     Time  Current\n",
      "                                 Dload  Upload   Total   Spent    Left  Speed\n",
      "\n",
      "  0     0    0     0    0     0      0      0 --:--:-- --:--:-- --:--:--     0\n",
      "  0     0    0     0    0     0      0      0 --:--:-- --:--:-- --:--:--     0\n",
      "  0     0    0     0    0     0      0      0 --:--:--  0:00:01 --:--:--     0\n",
      "  0     0    0     0    0     0      0      0 --:--:--  0:00:02 --:--:--     0\n",
      "  0     0    0     0    0     0      0      0 --:--:--  0:00:03 --:--:--     0\n",
      "  0     0    0     0    0     0      0      0 --:--:--  0:00:04 --:--:--     0\n",
      "  0     0    0     0    0     0      0      0 --:--:--  0:00:05 --:--:--     0\n",
      "  0     0    0     0    0     0      0      0 --:--:--  0:00:06 --:--:--     0curl: (6) Could not resolve host: his\n",
      "  % Total    % Received % Xferd  Average Speed   Time    Time     Time  Current\n",
      "                                 Dload  Upload   Total   Spent    Left  Speed\n",
      "\n",
      "  0     0    0     0    0     0      0      0 --:--:-- --:--:-- --:--:--     0\n",
      "  0     0    0     0    0     0      0      0 --:--:-- --:--:-- --:--:--     0\n",
      "  0     0    0     0    0     0      0      0 --:--:--  0:00:01 --:--:--     0\n",
      "  0     0    0     0    0     0      0      0 --:--:--  0:00:02 --:--:--     0\n",
      "  0     0    0     0    0     0      0      0 --:--:--  0:00:03 --:--:--     0\n",
      "  0     0    0     0    0     0      0      0 --:--:--  0:00:04 --:--:--     0\n",
      "  0     0    0     0    0     0      0      0 --:--:--  0:00:05 --:--:--     0\n",
      "  0     0    0     0    0     0      0      0 --:--:--  0:00:06 --:--:--     0curl: (6) Could not resolve host: speech\n",
      "  % Total    % Received % Xferd  Average Speed   Time    Time     Time  Current\n",
      "                                 Dload  Upload   Total   Spent    Left  Speed\n",
      "\n",
      "  0     0    0     0    0     0      0      0 --:--:-- --:--:-- --:--:--     0\n",
      "  0     0    0     0    0     0      0      0 --:--:-- --:--:-- --:--:--     0\n",
      "  0     0    0     0    0     0      0      0 --:--:--  0:00:01 --:--:--     0\n",
      "  0     0    0     0    0     0      0      0 --:--:--  0:00:02 --:--:--     0\n",
      "  0     0    0     0    0     0      0      0 --:--:--  0:00:03 --:--:--     0\n",
      "  0     0    0     0    0     0      0      0 --:--:--  0:00:04 --:--:--     0\n",
      "  0     0    0     0    0     0      0      0 --:--:--  0:00:05 --:--:--     0\n",
      "  0     0    0     0    0     0      0      0 --:--:--  0:00:06 --:--:--     0curl: (6) Could not resolve host: on\n",
      "  % Total    % Received % Xferd  Average Speed   Time    Time     Time  Current\n",
      "                                 Dload  Upload   Total   Spent    Left  Speed\n",
      "\n",
      "  0     0    0     0    0     0      0      0 --:--:-- --:--:-- --:--:--     0\n",
      "  0     0    0     0    0     0      0      0 --:--:-- --:--:-- --:--:--     0\n",
      "  0     0    0     0    0     0      0      0 --:--:--  0:00:01 --:--:--     0\n",
      "  0     0    0     0    0     0      0      0 --:--:--  0:00:02 --:--:--     0\n",
      "  0     0    0     0    0     0      0      0 --:--:--  0:00:03 --:--:--     0\n",
      "  0     0    0     0    0     0      0      0 --:--:--  0:00:04 --:--:--     0\n",
      "  0     0    0     0    0     0      0      0 --:--:--  0:00:05 --:--:--     0curl: (6) Could not resolve host: Tuesday\n",
      "  % Total    % Received % Xferd  Average Speed   Time    Time     Time  Current\n",
      "                                 Dload  Upload   Total   Spent    Left  Speed\n",
      "\n",
      "  0     0    0     0    0     0      0      0 --:--:-- --:--:-- --:--:--     0\n",
      "  0     0    0     0    0     0      0      0 --:--:--  0:00:01 --:--:--     0\n",
      "  0     0    0     0    0     0      0      0 --:--:--  0:00:02 --:--:--     0\n",
      "  0     0    0     0    0     0      0      0 --:--:--  0:00:03 --:--:--     0\n",
      "  0     0    0     0    0     0      0      0 --:--:--  0:00:04 --:--:--     0\n",
      "  0     0    0     0    0     0      0      0 --:--:--  0:00:05 --:--:--     0\n",
      "  0     0    0     0    0     0      0      0 --:--:--  0:00:05 --:--:--     0curl: (6) Could not resolve host: to\n",
      "  % Total    % Received % Xferd  Average Speed   Time    Time     Time  Current\n",
      "                                 Dload  Upload   Total   Spent    Left  Speed\n",
      "\n",
      "  0     0    0     0    0     0      0      0 --:--:-- --:--:-- --:--:--     0\n",
      "  0     0    0     0    0     0      0      0 --:--:-- --:--:-- --:--:--     0\n",
      "  0     0    0     0    0     0      0      0 --:--:--  0:00:01 --:--:--     0\n",
      "  0     0    0     0    0     0      0      0 --:--:--  0:00:02 --:--:--     0\n",
      "  0     0    0     0    0     0      0      0 --:--:--  0:00:03 --:--:--     0\n",
      "  0     0    0     0    0     0      0      0 --:--:--  0:00:04 --:--:--     0\n",
      "  0     0    0     0    0     0      0      0 --:--:--  0:00:05 --:--:--     0\n",
      "  0     0    0     0    0     0      0      0 --:--:--  0:00:06 --:--:--     0curl: (6) Could not resolve host: thousands\n",
      "  % Total    % Received % Xferd  Average Speed   Time    Time     Time  Current\n",
      "                                 Dload  Upload   Total   Spent    Left  Speed\n",
      "\n",
      "  0     0    0     0    0     0      0      0 --:--:-- --:--:-- --:--:--     0\n",
      "  0     0    0     0    0     0      0      0 --:--:-- --:--:-- --:--:--     0\n",
      "  0     0    0     0    0     0      0      0 --:--:--  0:00:01 --:--:--     0\n",
      "  0     0    0     0    0     0      0      0 --:--:--  0:00:02 --:--:--     0\n",
      "  0     0    0     0    0     0      0      0 --:--:--  0:00:03 --:--:--     0\n",
      "  0     0    0     0    0     0      0      0 --:--:--  0:00:04 --:--:--     0\n",
      "  0     0    0     0    0     0      0      0 --:--:--  0:00:05 --:--:--     0\n",
      "  0     0    0     0    0     0      0      0 --:--:--  0:00:06 --:--:--     0curl: (6) Could not resolve host: of\n",
      "curl: (3) URL using bad/illegal format or missing URL\n"
     ]
    }
   ],
   "source": [
    "!curl -X POST http://localhost:8000/getExtraction -d 'The U.S. president Barack Obama gave his speech on Tuesday to thousands of people.'"
   ],
   "metadata": {
    "collapsed": false,
    "ExecuteTime": {
     "end_time": "2023-05-16T08:28:23.638120800Z",
     "start_time": "2023-05-16T08:27:04.195314400Z"
    }
   }
  },
  {
   "cell_type": "markdown",
   "source": [
    "# Attempt 4: https://github.com/philipperemy/stanford-openie-python"
   ],
   "metadata": {
    "collapsed": false
   }
  },
  {
   "cell_type": "code",
   "execution_count": null,
   "outputs": [],
   "source": [
    "\"\"\"\n",
    "comments:\n",
    "- At first it didn't work\n",
    "- But somehow, after 2 weeks (when I gave up :,) when I tried again it worked\n",
    "- Still, not clear whether the issue was due to OS windows or something else (might be due to fact that a server was running beforehand because of my previous trials of other OIE tools - so better make sure of that)\n",
    "\"\"\""
   ],
   "metadata": {
    "collapsed": false
   }
  },
  {
   "cell_type": "code",
   "execution_count": null,
   "outputs": [],
   "source": [
    "!pip install stanford_openie"
   ],
   "metadata": {
    "collapsed": false
   }
  },
  {
   "cell_type": "code",
   "execution_count": 0,
   "outputs": [],
   "source": [
    "from openie import StanfordOpenIE\n",
    "\n",
    "# https://stanfordnlp.github.io/CoreNLP/openie.html#api\n",
    "# Default value of openie.affinity_probability_cap was 1/3.\n",
    "properties = {\n",
    "    'openie.affinity_probability_cap': 2 / 3,\n",
    "}"
   ],
   "metadata": {
    "collapsed": false
   }
  },
  {
   "cell_type": "code",
   "execution_count": 12,
   "outputs": [
    {
     "name": "stdout",
     "output_type": "stream",
     "text": [
      "Text: Obama was born in Hawaii, and he is our president..\n",
      "Starting server with command: java -Xmx8G -cp C:\\Users\\dnaen\\.stanfordnlp_resources\\stanford-corenlp-4.5.3/* edu.stanford.nlp.pipeline.StanfordCoreNLPServer -port 9000 -timeout 60000 -threads 5 -maxCharLength 100000 -quiet True -serverProperties corenlp_server-a7dec7c019f94e9c.props -preload openie\n",
      "|- {'subject': 'Obama', 'relation': 'was born in', 'object': 'Hawaii'}\n",
      "|- {'subject': 'he', 'relation': 'is', 'object': 'our president'}\n",
      "|- {'subject': 'Obama', 'relation': 'was', 'object': 'born'}\n"
     ]
    }
   ],
   "source": [
    "with StanfordOpenIE(properties=properties) as client:\n",
    "    text = 'Obama was born in Hawaii, and he is our president.'\n",
    "    print('Text: %s' % text)\n",
    "    print()\n",
    "    for triple in client.annotate(text):\n",
    "        print('|-', triple)"
   ],
   "metadata": {
    "collapsed": false,
    "ExecuteTime": {
     "end_time": "2023-05-17T09:58:38.469237800Z",
     "start_time": "2023-05-17T09:58:27.647052100Z"
    }
   }
  },
  {
   "cell_type": "markdown",
   "source": [
    "# Attempt 5: https://github.com/liaoziyang/OpenIE-Spider"
   ],
   "metadata": {
    "collapsed": false
   }
  },
  {
   "cell_type": "code",
   "execution_count": null,
   "outputs": [],
   "source": [],
   "metadata": {
    "collapsed": false
   }
  },
  {
   "cell_type": "code",
   "execution_count": null,
   "outputs": [],
   "source": [],
   "metadata": {
    "collapsed": false
   }
  },
  {
   "cell_type": "code",
   "execution_count": null,
   "outputs": [],
   "source": [],
   "metadata": {
    "collapsed": false
   }
  },
  {
   "cell_type": "code",
   "execution_count": null,
   "outputs": [],
   "source": [],
   "metadata": {
    "collapsed": false
   }
  },
  {
   "cell_type": "code",
   "execution_count": null,
   "outputs": [],
   "source": [],
   "metadata": {
    "collapsed": false
   }
  },
  {
   "cell_type": "code",
   "execution_count": null,
   "outputs": [],
   "source": [],
   "metadata": {
    "collapsed": false
   }
  },
  {
   "cell_type": "code",
   "execution_count": null,
   "outputs": [],
   "source": [],
   "metadata": {
    "collapsed": false
   }
  }
 ],
 "metadata": {
  "kernelspec": {
   "display_name": "Python 3",
   "language": "python",
   "name": "python3"
  },
  "language_info": {
   "codemirror_mode": {
    "name": "ipython",
    "version": 2
   },
   "file_extension": ".py",
   "mimetype": "text/x-python",
   "name": "python",
   "nbconvert_exporter": "python",
   "pygments_lexer": "ipython2",
   "version": "2.7.6"
  }
 },
 "nbformat": 4,
 "nbformat_minor": 0
}
